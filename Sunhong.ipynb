{
 "cells": [
  {
   "cell_type": "code",
   "execution_count": 2,
   "metadata": {},
   "outputs": [
    {
     "name": "stdout",
     "output_type": "stream",
     "text": [
      "=====================================================================\n",
      "Assignment: Final Project: Airbnb Listings and Evictions\n",
      "OK, version v1.12.5\n",
      "=====================================================================\n",
      "\n",
      "Successfully logged in as kshong94@berkeley.edu\n"
     ]
    }
   ],
   "source": [
    "# modules for research report\n",
    "from datascience import *\n",
    "import numpy as np\n",
    "import random\n",
    "import pandas as pd\n",
    "import folium\n",
    "%matplotlib inline\n",
    "import matplotlib.pyplot as plots\n",
    "plots.style.use('fivethirtyeight')\n",
    "\n",
    "# module for YouTube video\n",
    "from IPython.display import YouTubeVideo\n",
    "\n",
    "# okpy config\n",
    "from client.api.notebook import Notebook\n",
    "ok = Notebook('airbnb-final-project.ok')\n",
    "_ = ok.auth(inline=True)"
   ]
  },
  {
   "cell_type": "code",
   "execution_count": null,
   "metadata": {},
   "outputs": [],
   "source": []
  },
  {
   "cell_type": "markdown",
   "metadata": {},
   "source": [
    "# Airbnb Listings and Evictions\n",
    "\n",
    "The dataset you will be using is from [Inside Airbnb](http://insideairbnb.com/get-the-data.html), an independent investigatory project that\n",
    "collects and hosts substantial Airbnb data on more than 100 cities around the world. The data collected by Inside Airbnb are web-scraped from\n",
    "the Airbnb website on a monthly basis. Inside Airbnb was started to investigate the effects of Airbnb on affordable housing and gentrification.\n",
    "Its data are made public for free and open for use.  \n",
    "\n",
    "We have prepared for you a random subset of Inside Airbnb data from San Francisco collected in June 2020. The data have been\n",
    "cleaned for your convenience: all missing values have been removed, and low-quality observations and variables have been filtered\n",
    "out. A brief descriptive summary of the dataset is provided below. \n",
    "\n",
    "We are aware that this dataset is potentially significantly larger (in both rows and columns) than other datasets for the project. As a result, \n",
    "you will have many potential directions to conduct your analysis in. At the same time, it is very easy to become overwhelmed or lost with the data.\n",
    "We encourage you to reach out by posting your questions on the relevant Piazza thread, or by sending Angela (guanangela@berkeley.edu) or Alan\n",
    "(alanliang@berkeley.edu) an email if you need any help.\n",
    "\n",
    "**NB: You may not copy any public analyses of this dataset. Doing so will result in a zero.**"
   ]
  },
  {
   "cell_type": "markdown",
   "metadata": {},
   "source": [
    "## Summary\n",
    ">Airbnb offers a platform to connect hosts with guests for short-term or long-term lodging accommodations. Compared to similar firms offering vacation rental services\n",
    "such as VRBO or HomeAway, Airbnb is the largest and most prominent, with more than 7 million listings worldwide and 2 million people staying in one of its listings\n",
    "per night in 2018. Since its founding in 2008, hosts on the platform have served more than 750 million guests, and the firm has grown at an exponential rate globally\n",
    "pre-COVID.\n",
    "\n",
    "\n",
    ">The data presented are completely from web scraping the Airbnb website in June 2020 for random subset of listings in San Francisco. As a result, the data only contain\n",
    "information that a visitor to Airbnb’s site can see. This includes the `listings` table that records all Airbnb units and the `calendar` table that records the\n",
    "availabilities for the next 365 days and quoted price per night over the next year of each listing. What each table specifically describes will be gone over in the\n",
    "Data Description section below. Note that we do not observe Airbnb transactions or bookings, but only the dates that are available or unavailable through `calendar`.\n",
    "\n",
    "\n",
    ">The primary identifier for each listing is the `listing_id` or `id` column (the column name changes depending on the title). Each ID uniquely determines a listing,\n",
    "and every listing only has 1 ID. You can visit each listing's URL on Airbnb by going to https://www.airbnb.com/rooms/YOUR_ID_HERE with the id to look up the listing\n",
    "on the airbnb website."
   ]
  },
  {
   "cell_type": "markdown",
   "metadata": {},
   "source": [
    "## Data Description"
   ]
  },
  {
   "cell_type": "markdown",
   "metadata": {},
   "source": [
    "The dataset consists of many tables stored in the `data` folder. **You do not have use to all of the tables in your analysis.**\n",
    "1. `listings` provides information on 2000 Airbnb listings in San Francisco. Each row is a unique listing.\n",
    "2. `ratings` contains average ratings for the Airbnb listings across 6 categories and its overall rating. Guests who stay at an Airbnb are eligible to score a listing on each of the categories and on the overall score out of 5.\n",
    "3. `calendar` contains each listing's availability and price over the next year. This data is the same as the calendar that pops up when users try to select the dates of a reservation for a particular listing. For example, the first row means that the listing with ID 40138 was not available on June 8th, 2020. The price per night of this listing is \\\\$67. \n",
    "4. `evictions` contains information on evictions in San Francisco, and may be useful if you are interested in determining relationships between Airbnbs and gentrification or evictions.\n",
    "\n",
    "\n",
    "There are a lot of columns for many of these datasets, and you probably will only use a few of them. We've selected some of the variables that may be of interest below:\n",
    "\n",
    "`listings`:\n",
    "* `id`: listing ID.  You can visit each listing's URL on Airbnb by going to https://www.airbnb.com/rooms/YOUR_ID_HERE with the id to look up the listing on the airbnb website.\n",
    "* `Name`: listing or rental name\n",
    "* `neighborhood` and `neighbourhood_cleansed`: neighborhood of listing\n",
    "* `latitude`, `longtitude`: latitude and longitude of listing location. Note that for privacy reasons, this may be approximate.\n",
    "* `calculated_host_listings_count`: the number of different listings the host has on Airbnb.\n",
    "* `property_type`: type of property the listing is in (e.g. Apartment, Condo, House, etc)\n",
    "* `room_type`: type of place (e.g. entire home, private room, etc)\n",
    "* `accommodates`: max number of guests\n",
    "* `minimum_nights` and `maximum_nights`: minimum and maximum number of nights a reservation can be\n",
    "* `availability_X`: availability for the next X days (relative to the scraping date, June 8th, 2020)\n",
    "* `amenities`: a list of amenities provided by the listing. Note that each item is an iterable set\n",
    "\n",
    "`ratings`: \n",
    "* `review_scores_rating`: review score overall rating of listing. Note that on the Airbnb site the score is out of 5, but this value is out of 100. \n",
    "* `review_scores_accuracy`: review score based on accuracy of listing. Note that on the Airbnb site the score is out of 5, but this value is out of 10. \n",
    "* `review_scores_cleanliness`: review score based on clealiness of listing. Note that on the Airbnb site the score is out of 5, but this value is out of 10. \n",
    "* `review_scores_checkin`: review score based on check-in of listing. Note that on the Airbnb site the score is out of 5, but this value is out of 10. \n",
    "* `review_scores_communication`: review score based on communication with host. Note that on the Airbnb site the score is out of 5, but this value is out of 10. \n",
    "* `review_scores_location`: review score based on location of listing. Note that on the Airbnb site the score is out of 5, but this value is out of 10. \n",
    "\n",
    "\n",
    "`calendar`:\n",
    "* `listing_id`: ID of airbnb listing\n",
    "* `date`: date of the potential availability in question\n",
    "* `price`: price per night of listing in USD\n",
    "* `available`: true or false value representing whether the listing was available.\n",
    "\n",
    "`evictions`:\n",
    "* `File Date`: date the eviction was reported \n",
    "* `Neighborhood`: neighborhood in which the eviction occurred\n",
    "* `Longtitude` and `Latitude`: latitude and longitude of the listing\n",
    "* All other columns indicate the reason of the eviction. For example, if an eviction has `True` for the `Non Payment` column and `False` for all other columns, the eviction was due to non-payment. "
   ]
  },
  {
   "cell_type": "markdown",
   "metadata": {},
   "source": [
    "## Inspiration"
   ]
  },
  {
   "cell_type": "markdown",
   "metadata": {},
   "source": [
    "A variety of exploratory analyses, hypothesis tests, and predictions problems can be tackled with this data. Here are a few ideas to get\n",
    "you started:\n",
    "\n",
    "\n",
    "1. Can we use Airbnb data to predict which neighborhoods in San Francisco are more gentrified and/or have more evictions?\n",
    "2. Can we predict the overall rating of a listing from one or many of its 6 rating categories? Which of the 6 rating categories best predicts overall rating?  \n",
    "3. Can we predict the average price of a listing (as determined by calendar prices) based on its location, number of bedrooms, or through other features?\n",
    "\n",
    "Here are some articles we found to be interesting that may inspire you:\n",
    "1. [Airbnb’s COVID-19 crisis could be a boon for affordable housing](https://www.fastcompany.com/90482662/airbnbs-covid-19-crisis-could-be-a-boon-for-affordable-housing)\n",
    "2. [Identifying salient attributes of peer-to-peer accommodation experience](https://www.tandfonline.com/doi/full/10.1080/10548408.2016.1209153?src=recsys)\n",
    "3. [Airbnb is seeing a surge in demand\n",
    "](https://www.latimes.com/business/story/2020-06-07/airbnb-coronavirus-demand)\n",
    "4. [Airbnb’s Coronavirus Crisis: Burning Cash, Angry Hosts and an Uncertain Future\n",
    "](https://www.wsj.com/articles/airbnbs-coronavirus-crisis-burning-cash-angry-hosts-and-an-uncertain-future-11586365860)\n",
    "5. [Research: When Airbnb Listings in a City Increase, So Do Rent Prices\n",
    "](https://hbr.org/2019/04/research-when-airbnb-listings-in-a-city-increase-so-do-rent-prices)\n",
    "6. [Airbnb is getting ripped apart for asking guests to donate money to hosts\n",
    "](https://www.businessinsider.com/airbnb-asking-renters-to-donate-kindness-cards-backlash-2020-7?utm_source=reddit.com)\n",
    "\n",
    "Don't forget to review the [Final Project Guidelines](https://docs.google.com/document/d/1NuHDYTdWGwhPNRov8Y3I8y6R7Rbyf-WDOfQwovD-gmw/edit?usp=sharing) for a complete list of requirements."
   ]
  },
  {
   "cell_type": "markdown",
   "metadata": {},
   "source": [
    "## Preview\n",
    "\n",
    "The tables are loaded in the code cells below. Take some time to explore them!"
   ]
  },
  {
   "cell_type": "code",
   "execution_count": 3,
   "metadata": {},
   "outputs": [
    {
     "data": {
      "text/html": [
       "<table border=\"1\" class=\"dataframe\">\n",
       "    <thead>\n",
       "        <tr>\n",
       "            <th>id</th> <th>name</th> <th>host_id</th> <th>host_name</th> <th>host_since</th> <th>host_is_superhost</th> <th>neighbourhood</th> <th>zipcode</th> <th>latitude</th> <th>longitude</th> <th>is_location_exact</th> <th>property_type</th> <th>room_type</th> <th>accommodates</th> <th>bathrooms</th> <th>bedrooms</th> <th>beds</th> <th>amenities</th> <th>cleaning_fee</th> <th>minimum_nights</th> <th>maximum_nights</th> <th>availability_30</th> <th>availability_60</th> <th>availability_90</th> <th>availability_365</th> <th>number_of_reviews</th> <th>first_review</th> <th>last_review</th> <th>instant_bookable</th> <th>is_business_travel_ready</th> <th>calculated_host_listings_count</th> <th>reviews_per_month</th> <th>neighborhood</th>\n",
       "        </tr>\n",
       "    </thead>\n",
       "    <tbody>\n",
       "        <tr>\n",
       "            <td>5858 </td> <td>Creative Sanctuary                             </td> <td>8904   </td> <td>Philip And Tania</td> <td>2009-03-02</td> <td>f                </td> <td>Bernal Heights       </td> <td>94110  </td> <td>37.7451 </td> <td>-122.421 </td> <td>t                </td> <td>Apartment    </td> <td>Entire home/apt</td> <td>5           </td> <td>1        </td> <td>2       </td> <td>3   </td> <td>['Internet', 'Wifi', 'Kitchen', 'Heating', 'Family/kid f ...</td> <td>100         </td> <td>30            </td> <td>60            </td> <td>0              </td> <td>0              </td> <td>0              </td> <td>0               </td> <td>111              </td> <td>2009-05-03  </td> <td>2017-08-06 </td> <td>f               </td> <td>f                       </td> <td>1                             </td> <td>0.82             </td> <td>Bernal Heights     </td>\n",
       "        </tr>\n",
       "        <tr>\n",
       "            <td>8339 </td> <td>Historic Alamo Square Victorian                </td> <td>24215  </td> <td>Rosy            </td> <td>2009-07-02</td> <td>f                </td> <td>Western Addition/NOPA</td> <td>94117  </td> <td>37.7752 </td> <td>-122.436 </td> <td>t                </td> <td>Condominium  </td> <td>Entire home/apt</td> <td>4           </td> <td>1.5      </td> <td>2       </td> <td>2   </td> <td>['TV', 'Internet', 'Wifi', 'Kitchen', 'Free street parki ...</td> <td>171         </td> <td>5             </td> <td>111           </td> <td>30             </td> <td>60             </td> <td>90             </td> <td>365             </td> <td>28               </td> <td>2009-09-25  </td> <td>2019-06-28 </td> <td>f               </td> <td>f                       </td> <td>2                             </td> <td>0.21             </td> <td>Western Addition   </td>\n",
       "        </tr>\n",
       "        <tr>\n",
       "            <td>10820</td> <td>Haight Buena Vista Park Garden 3BR             </td> <td>38836  </td> <td>Bernat          </td> <td>2009-09-15</td> <td>t                </td> <td>Lower Haight         </td> <td>94117  </td> <td>37.7719 </td> <td>-122.439 </td> <td>t                </td> <td>Apartment    </td> <td>Entire home/apt</td> <td>3           </td> <td>1        </td> <td>3       </td> <td>3   </td> <td>['TV', 'Cable TV', 'Internet', 'Wifi', 'Kitchen', 'Pets  ...</td> <td>208         </td> <td>30            </td> <td>1125          </td> <td>29             </td> <td>59             </td> <td>89             </td> <td>364             </td> <td>37               </td> <td>2009-10-22  </td> <td>2018-12-01 </td> <td>f               </td> <td>f                       </td> <td>34                            </td> <td>0.29             </td> <td>Castro/Upper Market</td>\n",
       "        </tr>\n",
       "        <tr>\n",
       "            <td>12041</td> <td>Sunny/Sunset view room UCSF/USF - San Francisco</td> <td>21994  </td> <td>Aaron           </td> <td>2009-06-17</td> <td>f                </td> <td>Haight-Ashbury       </td> <td>94117  </td> <td>37.769  </td> <td>-122.447 </td> <td>f                </td> <td>Apartment    </td> <td>Private room   </td> <td>2           </td> <td>3        </td> <td>1       </td> <td>2   </td> <td>['TV', 'Internet', 'Wifi', 'Kitchen', 'Free street parki ...</td> <td>50          </td> <td>32            </td> <td>60            </td> <td>30             </td> <td>60             </td> <td>90             </td> <td>365             </td> <td>6                </td> <td>2011-09-18  </td> <td>2018-09-20 </td> <td>f               </td> <td>f                       </td> <td>9                             </td> <td>0.06             </td> <td>Haight Ashbury     </td>\n",
       "        </tr>\n",
       "        <tr>\n",
       "            <td>12522</td> <td>Perfectly located Castro                       </td> <td>18431  </td> <td>Brenda          </td> <td>2009-05-22</td> <td>t                </td> <td>The Castro           </td> <td>94114  </td> <td>37.7608 </td> <td>-122.43  </td> <td>t                </td> <td>Apartment    </td> <td>Private room   </td> <td>1           </td> <td>1        </td> <td>1       </td> <td>1   </td> <td>['Internet', 'Wifi', 'Kitchen', 'Pets live on this prope ...</td> <td>10          </td> <td>3             </td> <td>27            </td> <td>0              </td> <td>0              </td> <td>0              </td> <td>0               </td> <td>427              </td> <td>2010-01-14  </td> <td>2020-03-10 </td> <td>t               </td> <td>f                       </td> <td>1                             </td> <td>3.37             </td> <td>Castro/Upper Market</td>\n",
       "        </tr>\n",
       "    </tbody>\n",
       "</table>\n",
       "<p>... (2020 rows omitted)</p>"
      ],
      "text/plain": [
       "<IPython.core.display.HTML object>"
      ]
     },
     "metadata": {},
     "output_type": "display_data"
    }
   ],
   "source": [
    "# Load the data for airbnb listings\n",
    "listings = Table().read_table(\"data/listings.csv\")\n",
    "listings.show(5)"
   ]
  },
  {
   "cell_type": "code",
   "execution_count": null,
   "metadata": {},
   "outputs": [],
   "source": [
    "# Load in ratings table\n",
    "ratings = Table().read_table(\"data/ratings.csv\")\n",
    "ratings.show(5)"
   ]
  },
  {
   "cell_type": "code",
   "execution_count": null,
   "metadata": {},
   "outputs": [],
   "source": [
    "# Load in the calendar table\n",
    "calendar = Table().read_table(\"data/calendar.csv\")\n",
    "calendar.show(5)"
   ]
  },
  {
   "cell_type": "code",
   "execution_count": null,
   "metadata": {},
   "outputs": [],
   "source": [
    "# Load in the evictions table\n",
    "evictions = Table().read_table(\"data/evictions.csv\")\n",
    "evictions.show(5)"
   ]
  },
  {
   "cell_type": "markdown",
   "metadata": {},
   "source": [
    "<br>\n",
    "\n",
    "# Research Report"
   ]
  },
  {
   "cell_type": "markdown",
   "metadata": {},
   "source": [
    "## Introduction\n",
    "\n",
    "*Replace this text with your introduction*"
   ]
  },
  {
   "cell_type": "markdown",
   "metadata": {},
   "source": [
    "## Hypothesis Testing and Prediction Questions\n",
    "\n",
    "**Please bold your hypothesis testing and prediction questions.**\n",
    "\n",
    "*Replace this text with your hypothesis testing and prediction questions*"
   ]
  },
  {
   "cell_type": "markdown",
   "metadata": {},
   "source": [
    "## Exploratory Data Analysis\n",
    "\n",
    "**You may change the order of the plots and tables.**"
   ]
  },
  {
   "cell_type": "markdown",
   "metadata": {},
   "source": [
    "**Quantitative Plot:**"
   ]
  },
  {
   "cell_type": "code",
   "execution_count": null,
   "metadata": {},
   "outputs": [],
   "source": [
    "# Use this cell to generate your quantitative plot\n",
    "..."
   ]
  },
  {
   "cell_type": "markdown",
   "metadata": {},
   "source": [
    "*Replace this text with an analysis of your plot*"
   ]
  },
  {
   "cell_type": "markdown",
   "metadata": {},
   "source": [
    "**Qualitative Plot:**"
   ]
  },
  {
   "cell_type": "code",
   "execution_count": null,
   "metadata": {},
   "outputs": [],
   "source": [
    "# Use this cell to generate your qualitative plo# Use this cell to generate your qualitative plot\n",
    "..."
   ]
  },
  {
   "cell_type": "markdown",
   "metadata": {},
   "source": [
    "*Replace this text with an analysis of your plot*"
   ]
  },
  {
   "cell_type": "markdown",
   "metadata": {},
   "source": [
    "**Aggregated Data Table:**"
   ]
  },
  {
   "cell_type": "code",
   "execution_count": null,
   "metadata": {},
   "outputs": [],
   "source": [
    "# Use this cell to generate your aggregated data table\n",
    "..."
   ]
  },
  {
   "cell_type": "markdown",
   "metadata": {},
   "source": [
    "*Replace this text with an analysis of your plot*"
   ]
  },
  {
   "cell_type": "markdown",
   "metadata": {},
   "source": [
    "**Table Requiring a Join Operation:**"
   ]
  },
  {
   "cell_type": "code",
   "execution_count": null,
   "metadata": {},
   "outputs": [],
   "source": [
    "# Use this cell to join two datasets\n",
    "..."
   ]
  },
  {
   "cell_type": "markdown",
   "metadata": {},
   "source": [
    "*Replace this text with an analysis of your plot*"
   ]
  },
  {
   "cell_type": "markdown",
   "metadata": {},
   "source": [
    "## Hypothesis Testing\n",
    "\n",
    "**Do not copy code from demo notebooks or homeworks! You may split portions of your code into distinct cells. Also, be sure to\n",
    "set a random seed so that your results are reproducible.**"
   ]
  },
  {
   "cell_type": "code",
   "execution_count": null,
   "metadata": {},
   "outputs": [],
   "source": [
    "# set the random seed so that results are reproducible\n",
    "random.seed(1231)\n",
    "\n",
    "..."
   ]
  },
  {
   "cell_type": "markdown",
   "metadata": {},
   "source": [
    "## Prediction\n",
    "\n",
    "**Be sure to set a random seed so that your results are reproducible.**"
   ]
  },
  {
   "cell_type": "code",
   "execution_count": null,
   "metadata": {},
   "outputs": [],
   "source": [
    "# set the random seed so that results are reproducible\n",
    "random.seed(1231)\n",
    "\n",
    "..."
   ]
  },
  {
   "cell_type": "markdown",
   "metadata": {},
   "source": [
    "## Conclusion\n",
    "\n",
    "*Replace this text with your conclusion*"
   ]
  },
  {
   "cell_type": "markdown",
   "metadata": {},
   "source": [
    "## Presentation\n",
    "\n",
    "*In this section, you'll need to provide a link to your video presentation. If you've uploaded your presentation to YouTube,\n",
    "you can include the URL in the code below. We've provided an example to show you how to do this. Otherwise, provide the link\n",
    "in a markdown cell.*\n",
    "\n",
    "**Link:** *Replace this text with a link to your video presentation*"
   ]
  },
  {
   "cell_type": "code",
   "execution_count": null,
   "metadata": {},
   "outputs": [],
   "source": [
    "# Full Link: https://www.youtube.com/watch?v=BKgdDLrSC5s&feature=emb_logo\n",
    "# Plug in string between \"v=\" and \"\"&feature\":\n",
    "YouTubeVideo('BKgdDLrSC5s')"
   ]
  },
  {
   "cell_type": "markdown",
   "metadata": {},
   "source": [
    "# Submission\n",
    "\n",
    "*Just as with the other assignments in this course, please submit your research notebook to Okpy. We suggest that you\n",
    "submit often so that your progress is saved.*"
   ]
  },
  {
   "cell_type": "code",
   "execution_count": null,
   "metadata": {},
   "outputs": [],
   "source": [
    "# Run this line to submit your work\n",
    "_ = ok.submit()"
   ]
  }
 ],
 "metadata": {
  "kernelspec": {
   "display_name": "Python 3",
   "language": "python",
   "name": "python3"
  },
  "language_info": {
   "codemirror_mode": {
    "name": "ipython",
    "version": 3
   },
   "file_extension": ".py",
   "mimetype": "text/x-python",
   "name": "python",
   "nbconvert_exporter": "python",
   "pygments_lexer": "ipython3",
   "version": "3.6.11"
  }
 },
 "nbformat": 4,
 "nbformat_minor": 4
}
